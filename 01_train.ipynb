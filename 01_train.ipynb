{
 "cells": [
  {
   "cell_type": "code",
   "execution_count": 1,
   "metadata": {},
   "outputs": [],
   "source": [
    "# Google Colabで動かす場合\n",
    "!pip install extra_keras_datasets"
   ]
  },
  {
   "cell_type": "code",
   "execution_count": 2,
   "metadata": {},
   "outputs": [],
   "source": [
    "# 🚩 Step:1-1\n",
    "import numpy as np\n",
    "import matplotlib\n",
    "import matplotlib.pyplot as plt\n",
    "\n",
    "import tensorflow as tf\n",
    "import tensorflow.keras as keras\n",
    "import extra_keras_datasets.emnist as emnist\n",
    "\n",
    "from tensorflow.keras.layers import Flatten, Dense\n",
    "from tensorflow.keras.layers import Conv2D, MaxPooling2D\n",
    "from tensorflow.keras.layers import BatchNormalization, Dropout\n",
    "\n",
    "%matplotlib inline"
   ]
  },
  {
   "cell_type": "code",
   "execution_count": 3,
   "metadata": {},
   "outputs": [
    {
     "name": "stdout",
     "output_type": "stream",
     "text": [
      "numpy               : 1.19.0\n",
      "matplotlib          : 3.3.0\n",
      "tensorflow          : 2.2.0\n",
      "tensorflow.keras    : 2.3.0-tf\n"
     ]
    }
   ],
   "source": [
    "# 主要パッケージのバージョン\n",
    "def show_version(pkg):\n",
    "    print(\"{0:20}: {1}\".format(pkg.__name__, pkg.__version__))\n",
    "\n",
    "\n",
    "# 🚩 Step:1-2\n",
    "show_version(np)\n",
    "show_version(matplotlib)\n",
    "show_version(tf)\n",
    "show_version(keras)"
   ]
  },
  {
   "cell_type": "code",
   "execution_count": 4,
   "metadata": {},
   "outputs": [],
   "source": [
    "# 🚩 Step:1-3\n",
    "# EMNIST-Lettersのデータをロード(初回はダウンロードに数分かかる)\n",
    "(t_images, t_labels), (v_images, v_labels) = emnist.load_data(type=\"letters\")"
   ]
  },
  {
   "cell_type": "code",
   "execution_count": 5,
   "metadata": {},
   "outputs": [
    {
     "name": "stdout",
     "output_type": "stream",
     "text": [
      "t_images    : uint8, (124800, 28, 28)\n",
      "t_labels    : uint8, (124800,)\n",
      "v_images    : uint8, (20800, 28, 28)\n",
      "v_labels    : uint8, (20800,)\n"
     ]
    },
    {
     "data": {
      "image/png": "[encoded data removed]",
      "text/plain": [
       "<Figure size 432x288 with 2 Axes>"
      ]
     },
     "metadata": {
      "needs_background": "light"
     },
     "output_type": "display_data"
    }
   ],
   "source": [
    "# 取得データの形状を確認\n",
    "def show_data_info(label, data):\n",
    "    print(\"{:12}: {}, {}\".format(label, data.dtype, data.shape))\n",
    "\n",
    "\n",
    "# Matplotlib 3.3.0より前のimshow互換用 (h,w,1)→(h,w)\n",
    "def compatible_image(img):\n",
    "    if img.ndim == 3 and img.shape[2] == 1:\n",
    "        img = img.reshape(img.shape[0], img.shape[1])\n",
    "    return img\n",
    "\n",
    "\n",
    "# 取得データ画像のサンプル表示\n",
    "def show_image(img):\n",
    "    plt.rcParams[\"font.size\"] = 10\n",
    "    plt.figure()\n",
    "    plt.imshow(compatible_image(img))\n",
    "    plt.colorbar()\n",
    "    plt.grid(False)\n",
    "    plt.show()\n",
    "\n",
    "\n",
    "# 🚩 Step:1-4\n",
    "show_data_info(\"t_images\", t_images)\n",
    "show_data_info(\"t_labels\", t_labels)\n",
    "show_data_info(\"v_images\", v_images)\n",
    "show_data_info(\"v_labels\", v_labels)\n",
    "show_image(t_images[0])"
   ]
  },
  {
   "cell_type": "code",
   "execution_count": 6,
   "metadata": {},
   "outputs": [],
   "source": [
    "# データ形式を4次元データ (batch, height, width, channel)に変換\n",
    "# 各ピクセルの情報も0..255から0..1の範囲にノーマライズ\n",
    "def adjust_image(img):\n",
    "    img = img.astype(\"float32\")\n",
    "    img = img / 255.0\n",
    "    img = img.reshape(-1, 28, 28, 1)  # 3D→4D\n",
    "    return img\n",
    "\n",
    "\n",
    "# 🚩 Step:1-5\n",
    "t_images = adjust_image(t_images)\n",
    "v_images = adjust_image(v_images)"
   ]
  },
  {
   "cell_type": "code",
   "execution_count": 7,
   "metadata": {},
   "outputs": [
    {
     "name": "stdout",
     "output_type": "stream",
     "text": [
      "t_images    : float32, (124800, 28, 28, 1)\n",
      "v_images    : float32, (20800, 28, 28, 1)\n"
     ]
    },
    {
     "data": {
      "image/png": "[encoded data removed]",
      "text/plain": [
       "<Figure size 432x288 with 2 Axes>"
      ]
     },
     "metadata": {
      "needs_background": "light"
     },
     "output_type": "display_data"
    }
   ],
   "source": [
    "show_data_info(\"t_images\", t_images)\n",
    "show_data_info(\"v_images\", v_images)\n",
    "show_image(t_images[0])"
   ]
  },
  {
   "cell_type": "code",
   "execution_count": 8,
   "metadata": {},
   "outputs": [
    {
     "name": "stdout",
     "output_type": "stream",
     "text": [
      "Model: \"sequential\"\n",
      "_________________________________________________________________\n",
      "Layer (type)                 Output Shape              Param #   \n",
      "=================================================================\n",
      "conv2d (Conv2D)              (None, 28, 28, 32)        320       \n",
      "_________________________________________________________________\n",
      "conv2d_1 (Conv2D)            (None, 28, 28, 32)        9248      \n",
      "_________________________________________________________________\n",
      "conv2d_2 (Conv2D)            (None, 28, 28, 32)        25632     \n",
      "_________________________________________________________________\n",
      "max_pooling2d (MaxPooling2D) (None, 14, 14, 32)        0         \n",
      "_________________________________________________________________\n",
      "dropout (Dropout)            (None, 14, 14, 32)        0         \n",
      "_________________________________________________________________\n",
      "conv2d_3 (Conv2D)            (None, 14, 14, 64)        18496     \n",
      "_________________________________________________________________\n",
      "conv2d_4 (Conv2D)            (None, 14, 14, 64)        36928     \n",
      "_________________________________________________________________\n",
      "conv2d_5 (Conv2D)            (None, 14, 14, 64)        102464    \n",
      "_________________________________________________________________\n",
      "max_pooling2d_1 (MaxPooling2 (None, 7, 7, 64)          0         \n",
      "_________________________________________________________________\n",
      "dropout_1 (Dropout)          (None, 7, 7, 64)          0         \n",
      "_________________________________________________________________\n",
      "flatten (Flatten)            (None, 3136)              0         \n",
      "_________________________________________________________________\n",
      "dense (Dense)                (None, 128)               401536    \n",
      "_________________________________________________________________\n",
      "dropout_2 (Dropout)          (None, 128)               0         \n",
      "_________________________________________________________________\n",
      "dense_1 (Dense)              (None, 27)                3483      \n",
      "=================================================================\n",
      "Total params: 598,107\n",
      "Trainable params: 598,107\n",
      "Non-trainable params: 0\n",
      "_________________________________________________________________\n"
     ]
    }
   ],
   "source": [
    "# 🚩 Step:1-6\n",
    "# モデル構築\n",
    "# 畳み込み、プーリング、ドロップアウトの組み合わせで、最後は完全結合でsoftmaxでクラス分け\n",
    "# 隠れ層の活性化関数には定番のReLUを使用\n",
    "# TensorFlowを使う場合、最初の隠れ層だけ入力データの形式をinput_shapeで指定する必要がある\n",
    "model = keras.Sequential(\n",
    "    [\n",
    "        Conv2D(32, (3, 3), activation=\"relu\", padding=\"same\", input_shape=(28, 28, 1)),\n",
    "        Conv2D(32, (3, 3), activation=\"relu\", padding=\"same\"),\n",
    "        Conv2D(32, (5, 5), activation=\"relu\", padding=\"same\"),\n",
    "        MaxPooling2D((2, 2), padding=\"same\"),\n",
    "        Dropout(0.4),\n",
    "        Conv2D(64, (3, 3), activation=\"relu\", padding=\"same\"),\n",
    "        Conv2D(64, (3, 3), activation=\"relu\", padding=\"same\"),\n",
    "        Conv2D(64, (5, 5), activation=\"relu\", padding=\"same\"),\n",
    "        MaxPooling2D((2, 2), padding=\"same\"),\n",
    "        Dropout(0.4),\n",
    "        Flatten(),\n",
    "        Dense(128, activation=\"relu\"),\n",
    "        Dropout(0.4),\n",
    "        Dense(27, activation=\"softmax\"),\n",
    "    ]\n",
    ")\n",
    "\n",
    "# 🚩 Step:1-7\n",
    "# モデルのコンパイル\n",
    "opt = keras.optimizers.Adam()\n",
    "loss = keras.losses.SparseCategoricalCrossentropy()\n",
    "model.compile(optimizer=opt, loss=loss, metrics=[\"accuracy\"])\n",
    "\n",
    "# モデルの概要\n",
    "model.summary()"
   ]
  },
  {
   "cell_type": "code",
   "execution_count": 9,
   "metadata": {},
   "outputs": [
    {
     "name": "stdout",
     "output_type": "stream",
     "text": [
      "Epoch 1/20\n",
      "975/975 - 6s - loss: 0.6501 - accuracy: 0.8004 - val_loss: 0.2181 - val_accuracy: 0.9260\n",
      "Epoch 2/20\n",
      "975/975 - 6s - loss: 0.2898 - accuracy: 0.9077 - val_loss: 0.1846 - val_accuracy: 0.9390\n",
      "Epoch 3/20\n",
      "975/975 - 6s - loss: 0.2463 - accuracy: 0.9201 - val_loss: 0.1717 - val_accuracy: 0.9410\n",
      "Epoch 4/20\n",
      "975/975 - 6s - loss: 0.2204 - accuracy: 0.9280 - val_loss: 0.1684 - val_accuracy: 0.9435\n",
      "Epoch 5/20\n",
      "975/975 - 6s - loss: 0.2057 - accuracy: 0.9324 - val_loss: 0.1612 - val_accuracy: 0.9460\n",
      "Epoch 6/20\n",
      "975/975 - 6s - loss: 0.1931 - accuracy: 0.9357 - val_loss: 0.1556 - val_accuracy: 0.9481\n",
      "Epoch 7/20\n",
      "975/975 - 6s - loss: 0.1849 - accuracy: 0.9372 - val_loss: 0.1573 - val_accuracy: 0.9476\n",
      "Epoch 8/20\n",
      "975/975 - 6s - loss: 0.1781 - accuracy: 0.9393 - val_loss: 0.1547 - val_accuracy: 0.9482\n",
      "Epoch 9/20\n",
      "975/975 - 6s - loss: 0.1706 - accuracy: 0.9419 - val_loss: 0.1568 - val_accuracy: 0.9486\n",
      "Epoch 10/20\n",
      "975/975 - 6s - loss: 0.1670 - accuracy: 0.9425 - val_loss: 0.1488 - val_accuracy: 0.9508\n",
      "Epoch 11/20\n",
      "975/975 - 6s - loss: 0.1626 - accuracy: 0.9447 - val_loss: 0.1556 - val_accuracy: 0.9466\n",
      "Epoch 12/20\n",
      "975/975 - 6s - loss: 0.1565 - accuracy: 0.9448 - val_loss: 0.1559 - val_accuracy: 0.9488\n",
      "Epoch 13/20\n",
      "975/975 - 6s - loss: 0.1541 - accuracy: 0.9455 - val_loss: 0.1514 - val_accuracy: 0.9500\n",
      "Epoch 14/20\n",
      "975/975 - 6s - loss: 0.1496 - accuracy: 0.9476 - val_loss: 0.1539 - val_accuracy: 0.9506\n",
      "Epoch 15/20\n",
      "975/975 - 6s - loss: 0.1470 - accuracy: 0.9483 - val_loss: 0.1536 - val_accuracy: 0.9492\n",
      "Epoch 16/20\n",
      "975/975 - 6s - loss: 0.1452 - accuracy: 0.9482 - val_loss: 0.1475 - val_accuracy: 0.9508\n",
      "Epoch 17/20\n",
      "975/975 - 6s - loss: 0.1419 - accuracy: 0.9493 - val_loss: 0.1498 - val_accuracy: 0.9498\n",
      "Epoch 18/20\n",
      "975/975 - 6s - loss: 0.1417 - accuracy: 0.9497 - val_loss: 0.1477 - val_accuracy: 0.9508\n",
      "Epoch 19/20\n",
      "975/975 - 6s - loss: 0.1388 - accuracy: 0.9505 - val_loss: 0.1482 - val_accuracy: 0.9505\n",
      "Epoch 20/20\n",
      "975/975 - 6s - loss: 0.1357 - accuracy: 0.9503 - val_loss: 0.1547 - val_accuracy: 0.9516\n"
     ]
    }
   ],
   "source": [
    "# 🚩 Step:1-8\n",
    "# 教育データで訓練（GPUが利用できない場合は計算に時間がかかる）\n",
    "history = model.fit(\n",
    "    t_images,\n",
    "    t_labels,\n",
    "    epochs=20,\n",
    "    batch_size=128,\n",
    "    validation_data=(v_images, v_labels),\n",
    "    verbose=2,\n",
    ")"
   ]
  },
  {
   "cell_type": "code",
   "execution_count": 10,
   "metadata": {},
   "outputs": [
    {
     "data": {
      "image/png": "[encoded data removed]",
      "text/plain": [
       "<Figure size 720x360 with 2 Axes>"
      ]
     },
     "metadata": {
      "needs_background": "light"
     },
     "output_type": "display_data"
    }
   ],
   "source": [
    "# エポックごとの学習結果の推移を確認\n",
    "# TensorBoardを使えば、更に色々な情報を確認できる\n",
    "def show_history(history):\n",
    "    plt.rcParams[\"font.size\"] = 10\n",
    "    fig, ax = plt.subplots(1, 2, figsize=(10, 5))\n",
    "    t_col = \"#03F\"\n",
    "    v_col = \"#F33\"\n",
    "\n",
    "    ax[0].set_title(\"Accuracy\", fontsize=14)\n",
    "    ax[0].plot(history.history[\"accuracy\"], color=t_col, label=\"accuracy\")\n",
    "    ax[0].plot(history.history[\"val_accuracy\"], color=v_col, label=\"val_accuracy\")\n",
    "    ax[1].set_title(\"Loss\", fontsize=14)\n",
    "    ax[1].plot(history.history[\"loss\"], color=t_col, label=\"loss\")\n",
    "    ax[1].plot(history.history[\"val_loss\"], color=v_col, label=\"val_loss\")\n",
    "\n",
    "    x_pos = np.arange(0, len(history.epoch), 2)\n",
    "    for x in ax:\n",
    "        x.set_xticks(x_pos)\n",
    "        x.set_xticklabels(x_pos + 1)\n",
    "        x.grid(True)\n",
    "        x.legend(fontsize=12)\n",
    "\n",
    "    plt.show()\n",
    "\n",
    "\n",
    "# 🚩 Step:1-9\n",
    "show_history(history)"
   ]
  },
  {
   "cell_type": "code",
   "execution_count": 11,
   "metadata": {},
   "outputs": [],
   "source": [
    "# 🚩 Step:1-10\n",
    "# 学習済みモデルの保存（HDF5形式）\n",
    "model.save(\"data/emnist-model.h5\")"
   ]
  }
 ],
 "metadata": {
  "kernelspec": {
   "display_name": "Python 3",
   "language": "python",
   "name": "python3"
  },
  "language_info": {
   "codemirror_mode": {
    "name": "ipython",
    "version": 3
   },
   "file_extension": ".py",
   "mimetype": "text/x-python",
   "name": "python",
   "nbconvert_exporter": "python",
   "pygments_lexer": "ipython3",
   "version": "3.8.2"
  }
 },
 "nbformat": 4,
 "nbformat_minor": 4
}
